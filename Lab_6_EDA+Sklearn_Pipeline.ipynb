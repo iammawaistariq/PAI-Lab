{
  "nbformat": 4,
  "nbformat_minor": 0,
  "metadata": {
    "colab": {
      "provenance": [],
      "toc_visible": true,
      "include_colab_link": true
    },
    "kernelspec": {
      "name": "python3",
      "display_name": "Python 3"
    },
    "language_info": {
      "name": "python"
    }
  },
  "cells": [
    {
      "cell_type": "markdown",
      "metadata": {
        "id": "view-in-github",
        "colab_type": "text"
      },
      "source": [
        "<a href=\"https://colab.research.google.com/github/iammawaistariq/PAI-Lab/blob/main/Lab_6_EDA%2BSklearn_Pipeline.ipynb\" target=\"_parent\"><img src=\"https://colab.research.google.com/assets/colab-badge.svg\" alt=\"Open In Colab\"/></a>"
      ]
    },
    {
      "cell_type": "markdown",
      "source": [
        "##Data Preparation\n",
        "\n",
        "*   Feature Scaling\n",
        "*   Feature Binning\n",
        "*   Column Transformer\n",
        "*   Function Transfoerm\n",
        "*   Sklearn Pipeline"
      ],
      "metadata": {
        "id": "8zRn0spUs3kC"
      }
    },
    {
      "cell_type": "code",
      "source": [
        "import pandas as pd\n",
        "import seaborn as sns\n",
        "import matplotlib.pyplot as plt\n",
        "from sklearn.preprocessing import MinMaxScaler, StandardScaler\n",
        "from sklearn.compose import ColumnTransformer\n",
        "from sklearn.impute import SimpleImputer\n",
        "from sklearn.preprocessing import FunctionTransformer, OneHotEncoder\n",
        "from sklearn.pipeline import Pipeline"
      ],
      "metadata": {
        "id": "169juKyDxxGL"
      },
      "execution_count": null,
      "outputs": []
    },
    {
      "cell_type": "code",
      "source": [
        "titanic = pd.read_csv('titanic.csv')"
      ],
      "metadata": {
        "id": "rRYfR86ixzRK"
      },
      "execution_count": null,
      "outputs": []
    },
    {
      "cell_type": "code",
      "source": [
        "titanic.columns"
      ],
      "metadata": {
        "id": "G9MXkLkjJ5tF",
        "outputId": "b1b29082-d0d9-49fe-d572-1578aecba6a5",
        "colab": {
          "base_uri": "https://localhost:8080/"
        }
      },
      "execution_count": null,
      "outputs": [
        {
          "output_type": "execute_result",
          "data": {
            "text/plain": [
              "Index(['PassengerId', 'Survived', 'Pclass', 'Name', 'Sex', 'Age', 'SibSp',\n",
              "       'Parch', 'Ticket', 'Fare', 'Cabin', 'Embarked'],\n",
              "      dtype='object')"
            ]
          },
          "metadata": {},
          "execution_count": 18
        }
      ]
    },
    {
      "cell_type": "code",
      "source": [],
      "metadata": {
        "id": "joX4u4e6KbkX"
      },
      "execution_count": null,
      "outputs": []
    },
    {
      "cell_type": "code",
      "source": [],
      "metadata": {
        "id": "Ukx-oy79LBFd"
      },
      "execution_count": null,
      "outputs": []
    },
    {
      "cell_type": "markdown",
      "source": [
        "**Feature Scaling**"
      ],
      "metadata": {
        "id": "TkgbJAGvxhI0"
      }
    },
    {
      "cell_type": "code",
      "source": [
        "#Select features for scaling\n",
        "features_to_scale = ['Age', 'Fare']"
      ],
      "metadata": {
        "id": "wIV_UTE5viUT"
      },
      "execution_count": null,
      "outputs": []
    },
    {
      "cell_type": "code",
      "source": [
        "# Handle missing values\n",
        "# Fill missing values in 'Age' and 'Fare' with the median\n",
        "titanic['Age'] = titanic['Age'].fillna(titanic['Age'].median())\n",
        "titanic['Fare'] = titanic['Fare'].fillna(titanic['Fare'].median())\n",
        "#titanic['Age'].fillna(titanic['Age'].median(), inplace=True)\n",
        "#titanic['Fare'].fillna(titanic['Fare'].median(), inplace=True)"
      ],
      "metadata": {
        "id": "wqeC7B688Set"
      },
      "execution_count": null,
      "outputs": []
    },
    {
      "cell_type": "code",
      "source": [
        "#Apply MinMaxScaler to the selected features\n",
        "scaler = MinMaxScaler()\n",
        "scaled_features = scaler.fit_transform(titanic[features_to_scale])\n",
        "#print(scaled_features)\n",
        "print(type(scaled_features))"
      ],
      "metadata": {
        "colab": {
          "base_uri": "https://localhost:8080/"
        },
        "id": "IK1TlKK18YSE",
        "outputId": "e03457d4-46f5-4c0d-d8b7-1e6ca6b0b5a2"
      },
      "execution_count": null,
      "outputs": [
        {
          "output_type": "stream",
          "name": "stdout",
          "text": [
            "<class 'numpy.ndarray'>\n"
          ]
        }
      ]
    },
    {
      "cell_type": "code",
      "source": [
        "\n",
        "# Convert scaled features into a DataFrame\n",
        "scaled_df = pd.DataFrame(scaled_features, columns=features_to_scale)\n",
        "print(scaled_df)\n"
      ],
      "metadata": {
        "colab": {
          "base_uri": "https://localhost:8080/"
        },
        "id": "nr0LjivD8ap8",
        "outputId": "413d4dcc-6f31-4ff0-9187-ce152fa4efc0"
      },
      "execution_count": null,
      "outputs": [
        {
          "output_type": "stream",
          "name": "stdout",
          "text": [
            "          Age      Fare\n",
            "0    0.271174  0.014151\n",
            "1    0.472229  0.139136\n",
            "2    0.321438  0.015469\n",
            "3    0.434531  0.103644\n",
            "4    0.434531  0.015713\n",
            "..        ...       ...\n",
            "886  0.334004  0.025374\n",
            "887  0.233476  0.058556\n",
            "888  0.346569  0.045771\n",
            "889  0.321438  0.058556\n",
            "890  0.396833  0.015127\n",
            "\n",
            "[891 rows x 2 columns]\n"
          ]
        }
      ]
    },
    {
      "cell_type": "code",
      "source": [
        "#Concatenate the scaled features back into the original DataFrame\n",
        "print(titanic[features_to_scale])\n",
        "titanic[features_to_scale] = scaled_df\n",
        "print(titanic[features_to_scale])\n",
        "print(type(titanic[features_to_scale]))"
      ],
      "metadata": {
        "colab": {
          "base_uri": "https://localhost:8080/"
        },
        "id": "1qf-dwrG8cV8",
        "outputId": "5778ff1e-fe0f-4d18-c1d5-4f80619fe008"
      },
      "execution_count": null,
      "outputs": [
        {
          "output_type": "stream",
          "name": "stdout",
          "text": [
            "      Age     Fare\n",
            "0    22.0   7.2500\n",
            "1    38.0  71.2833\n",
            "2    26.0   7.9250\n",
            "3    35.0  53.1000\n",
            "4    35.0   8.0500\n",
            "..    ...      ...\n",
            "886  27.0  13.0000\n",
            "887  19.0  30.0000\n",
            "888  28.0  23.4500\n",
            "889  26.0  30.0000\n",
            "890  32.0   7.7500\n",
            "\n",
            "[891 rows x 2 columns]\n",
            "          Age      Fare\n",
            "0    0.271174  0.014151\n",
            "1    0.472229  0.139136\n",
            "2    0.321438  0.015469\n",
            "3    0.434531  0.103644\n",
            "4    0.434531  0.015713\n",
            "..        ...       ...\n",
            "886  0.334004  0.025374\n",
            "887  0.233476  0.058556\n",
            "888  0.346569  0.045771\n",
            "889  0.321438  0.058556\n",
            "890  0.396833  0.015127\n",
            "\n",
            "[891 rows x 2 columns]\n",
            "<class 'pandas.core.frame.DataFrame'>\n"
          ]
        }
      ]
    },
    {
      "cell_type": "code",
      "source": [
        "# Step 6: Display the results\n",
        "print(\"After MinMax Scaling:\")\n",
        "print(titanic.shape)\n",
        "print(titanic.head())"
      ],
      "metadata": {
        "colab": {
          "base_uri": "https://localhost:8080/"
        },
        "id": "Ueku91xt8dk0",
        "outputId": "b7dbd3ab-6be7-4bde-b27e-9ecbdea145ed"
      },
      "execution_count": null,
      "outputs": [
        {
          "output_type": "stream",
          "name": "stdout",
          "text": [
            "After MinMax Scaling:\n",
            "(891, 12)\n",
            "   PassengerId  Survived  Pclass  \\\n",
            "0            1         0       3   \n",
            "1            2         1       1   \n",
            "2            3         1       3   \n",
            "3            4         1       1   \n",
            "4            5         0       3   \n",
            "\n",
            "                                                Name     Sex       Age  SibSp  \\\n",
            "0                            Braund, Mr. Owen Harris    male  0.271174      1   \n",
            "1  Cumings, Mrs. John Bradley (Florence Briggs Th...  female  0.472229      1   \n",
            "2                             Heikkinen, Miss. Laina  female  0.321438      0   \n",
            "3       Futrelle, Mrs. Jacques Heath (Lily May Peel)  female  0.434531      1   \n",
            "4                           Allen, Mr. William Henry    male  0.434531      0   \n",
            "\n",
            "   Parch            Ticket      Fare Cabin Embarked  \n",
            "0      0         A/5 21171  0.014151   NaN        S  \n",
            "1      0          PC 17599  0.139136   C85        C  \n",
            "2      0  STON/O2. 3101282  0.015469   NaN        S  \n",
            "3      0            113803  0.103644  C123        S  \n",
            "4      0            373450  0.015713   NaN        S  \n"
          ]
        }
      ]
    },
    {
      "cell_type": "markdown",
      "source": [
        "# **Feature Binning**"
      ],
      "metadata": {
        "id": "OVTtdK5kxleC"
      }
    },
    {
      "cell_type": "code",
      "source": [
        "# Extract Title from Name\n",
        "titanic['Title'] = titanic['Name'].str.extract(r' ([A-Za-z]+)\\.', expand=False)\n",
        "print(titanic['Title'])"
      ],
      "metadata": {
        "id": "c95PBrr-v6Ab",
        "colab": {
          "base_uri": "https://localhost:8080/"
        },
        "outputId": "51a23603-9cdf-48a2-f9f4-6557e2bf0878"
      },
      "execution_count": null,
      "outputs": [
        {
          "output_type": "stream",
          "name": "stdout",
          "text": [
            "0        Mr\n",
            "1       Mrs\n",
            "2      Miss\n",
            "3       Mrs\n",
            "4        Mr\n",
            "       ... \n",
            "886     Rev\n",
            "887    Miss\n",
            "888    Miss\n",
            "889      Mr\n",
            "890      Mr\n",
            "Name: Title, Length: 891, dtype: object\n"
          ]
        }
      ]
    },
    {
      "cell_type": "code",
      "source": [
        "# Define title mapping dictionary\n",
        "title_mapping = {\n",
        "    'Mr': 'Mr', 'Mrs': 'Mrs', 'Miss': 'Miss', 'Master': 'Master',\n",
        "    'Capt': 'Officer', 'Col': 'Officer', 'Major': 'Officer', 'Dr': 'Officer', 'Rev': 'Officer',\n",
        "    'Countess': 'Royalty', 'Sir': 'Royalty', 'Lady': 'Royalty', 'Jonkheer': 'Royalty', 'Don': 'Royalty',\n",
        "    'Mlle': 'Miss', 'Ms': 'Miss', 'Mme': 'Mrs'\n",
        "}\n",
        "print(type(titanic['Title']))\n",
        "# Map extracted titles to broader categories & handle unknown titles\n",
        "titanic['Title_Group'] = titanic['Title'].map(title_mapping)\n",
        "print(titanic)\n",
        "#filtered_titanic = titanic[titanic['Title_Group'] == 'Other'].tail(100)\n",
        "#print(filtered_titanic)"
      ],
      "metadata": {
        "colab": {
          "base_uri": "https://localhost:8080/"
        },
        "id": "jeLKEuMA8uKs",
        "outputId": "739b5508-5c2d-4e0a-a89e-8219fc830fc6"
      },
      "execution_count": null,
      "outputs": [
        {
          "output_type": "stream",
          "name": "stdout",
          "text": [
            "<class 'pandas.core.series.Series'>\n",
            "     PassengerId  Survived  Pclass  \\\n",
            "0              1         0       3   \n",
            "1              2         1       1   \n",
            "2              3         1       3   \n",
            "3              4         1       1   \n",
            "4              5         0       3   \n",
            "..           ...       ...     ...   \n",
            "886          887         0       2   \n",
            "887          888         1       1   \n",
            "888          889         0       3   \n",
            "889          890         1       1   \n",
            "890          891         0       3   \n",
            "\n",
            "                                                  Name     Sex       Age  \\\n",
            "0                              Braund, Mr. Owen Harris    male  0.271174   \n",
            "1    Cumings, Mrs. John Bradley (Florence Briggs Th...  female  0.472229   \n",
            "2                               Heikkinen, Miss. Laina  female  0.321438   \n",
            "3         Futrelle, Mrs. Jacques Heath (Lily May Peel)  female  0.434531   \n",
            "4                             Allen, Mr. William Henry    male  0.434531   \n",
            "..                                                 ...     ...       ...   \n",
            "886                              Montvila, Rev. Juozas    male  0.334004   \n",
            "887                       Graham, Miss. Margaret Edith  female  0.233476   \n",
            "888           Johnston, Miss. Catherine Helen \"Carrie\"  female  0.346569   \n",
            "889                              Behr, Mr. Karl Howell    male  0.321438   \n",
            "890                                Dooley, Mr. Patrick    male  0.396833   \n",
            "\n",
            "     SibSp  Parch            Ticket      Fare Cabin Embarked Title Title_Group  \n",
            "0        1      0         A/5 21171  0.014151   NaN        S    Mr          Mr  \n",
            "1        1      0          PC 17599  0.139136   C85        C   Mrs         Mrs  \n",
            "2        0      0  STON/O2. 3101282  0.015469   NaN        S  Miss        Miss  \n",
            "3        1      0            113803  0.103644  C123        S   Mrs         Mrs  \n",
            "4        0      0            373450  0.015713   NaN        S    Mr          Mr  \n",
            "..     ...    ...               ...       ...   ...      ...   ...         ...  \n",
            "886      0      0            211536  0.025374   NaN        S   Rev     Officer  \n",
            "887      0      0            112053  0.058556   B42        S  Miss        Miss  \n",
            "888      1      2        W./C. 6607  0.045771   NaN        S  Miss        Miss  \n",
            "889      0      0            111369  0.058556  C148        C    Mr          Mr  \n",
            "890      0      0            370376  0.015127   NaN        Q    Mr          Mr  \n",
            "\n",
            "[891 rows x 14 columns]\n"
          ]
        }
      ]
    },
    {
      "cell_type": "code",
      "source": [
        "# Drop the original 'Title' column (optional)\n",
        "titanic.drop(columns=['Title'], inplace=True)\n",
        "print(titanic.head())\n",
        "\n",
        "# Encode the categorical feature using One-Hot Encoding (optional for ML models)\n",
        "titanic = pd.get_dummies(titanic, columns=['Title_Group'],  dtype=int)"
      ],
      "metadata": {
        "colab": {
          "base_uri": "https://localhost:8080/"
        },
        "id": "C3zIgooA8wWc",
        "outputId": "31797909-ddac-411e-b305-65da6c6a223c"
      },
      "execution_count": null,
      "outputs": [
        {
          "output_type": "stream",
          "name": "stdout",
          "text": [
            "   PassengerId  Survived  Pclass  \\\n",
            "0            1         0       3   \n",
            "1            2         1       1   \n",
            "2            3         1       3   \n",
            "3            4         1       1   \n",
            "4            5         0       3   \n",
            "\n",
            "                                                Name     Sex       Age  SibSp  \\\n",
            "0                            Braund, Mr. Owen Harris    male  0.271174      1   \n",
            "1  Cumings, Mrs. John Bradley (Florence Briggs Th...  female  0.472229      1   \n",
            "2                             Heikkinen, Miss. Laina  female  0.321438      0   \n",
            "3       Futrelle, Mrs. Jacques Heath (Lily May Peel)  female  0.434531      1   \n",
            "4                           Allen, Mr. William Henry    male  0.434531      0   \n",
            "\n",
            "   Parch            Ticket      Fare Cabin Embarked Title_Group  \n",
            "0      0         A/5 21171  0.014151   NaN        S          Mr  \n",
            "1      0          PC 17599  0.139136   C85        C         Mrs  \n",
            "2      0  STON/O2. 3101282  0.015469   NaN        S        Miss  \n",
            "3      0            113803  0.103644  C123        S         Mrs  \n",
            "4      0            373450  0.015713   NaN        S          Mr  \n"
          ]
        }
      ]
    },
    {
      "cell_type": "code",
      "source": [
        "# Display the updated dataset with new feature\n",
        "print(titanic.head())\n",
        "print(titanic.shape)"
      ],
      "metadata": {
        "colab": {
          "base_uri": "https://localhost:8080/"
        },
        "id": "Yim0WMZz8y9M",
        "outputId": "72ae5b15-7921-41da-dbbb-5028d82ca05a"
      },
      "execution_count": null,
      "outputs": [
        {
          "output_type": "stream",
          "name": "stdout",
          "text": [
            "   PassengerId  Survived  Pclass  \\\n",
            "0            1         0       3   \n",
            "1            2         1       1   \n",
            "2            3         1       3   \n",
            "3            4         1       1   \n",
            "4            5         0       3   \n",
            "\n",
            "                                                Name     Sex       Age  SibSp  \\\n",
            "0                            Braund, Mr. Owen Harris    male  0.271174      1   \n",
            "1  Cumings, Mrs. John Bradley (Florence Briggs Th...  female  0.472229      1   \n",
            "2                             Heikkinen, Miss. Laina  female  0.321438      0   \n",
            "3       Futrelle, Mrs. Jacques Heath (Lily May Peel)  female  0.434531      1   \n",
            "4                           Allen, Mr. William Henry    male  0.434531      0   \n",
            "\n",
            "   Parch            Ticket      Fare Cabin Embarked  Title_Group_Master  \\\n",
            "0      0         A/5 21171  0.014151   NaN        S                   0   \n",
            "1      0          PC 17599  0.139136   C85        C                   0   \n",
            "2      0  STON/O2. 3101282  0.015469   NaN        S                   0   \n",
            "3      0            113803  0.103644  C123        S                   0   \n",
            "4      0            373450  0.015713   NaN        S                   0   \n",
            "\n",
            "   Title_Group_Miss  Title_Group_Mr  Title_Group_Mrs  Title_Group_Officer  \\\n",
            "0                 0               1                0                    0   \n",
            "1                 0               0                1                    0   \n",
            "2                 1               0                0                    0   \n",
            "3                 0               0                1                    0   \n",
            "4                 0               1                0                    0   \n",
            "\n",
            "   Title_Group_Royalty  \n",
            "0                    0  \n",
            "1                    0  \n",
            "2                    0  \n",
            "3                    0  \n",
            "4                    0  \n",
            "(891, 18)\n"
          ]
        }
      ]
    },
    {
      "cell_type": "markdown",
      "source": [
        "**Column Transformer**"
      ],
      "metadata": {
        "id": "FbORs_SNsdZL"
      }
    },
    {
      "cell_type": "code",
      "source": [
        "# Sample DataFrame\n",
        "data = pd.DataFrame({\n",
        "    'Age': [22, None, 24, 22, None, 24],\n",
        "    'Sex': ['male', 'female', 'female','male', 'female', 'female'],\n",
        "    'Embarked': ['B', 'B', 'C', 'C', 'C','S'],\n",
        "    'Fare': [7.25, 71.83, 8.05,7.25, 71.83, 8.05]\n",
        "})\n",
        "\n",
        "print(\"Original DataFrame:\")\n",
        "print(data)\n",
        "\n",
        "# Define ColumnTransformer\n",
        "preprocessor = ColumnTransformer(transformers=[\n",
        "    ('age_imputer', SimpleImputer(strategy='mean'), ['Age']),\n",
        "    ('ohe', OneHotEncoder(), ['Sex','Embarked'])\n",
        "], remainder='passthrough')  # Pass through other columns like 'Fare'\n",
        "\n",
        "# Transform the data\n",
        "transformed_data = preprocessor.fit_transform(data)\n",
        "\n",
        "# Output shape and transformed data\n",
        "print(\"\\nTransformed Data Shape:\")\n",
        "print(transformed_data.shape)\n",
        "#print(type(transformed_data))\n",
        "\n",
        "\n",
        "transformed_df = pd.DataFrame(transformed_data)\n",
        "print(\"\\nTransformed DataFrame:\")\n",
        "print(transformed_df)"
      ],
      "metadata": {
        "colab": {
          "base_uri": "https://localhost:8080/"
        },
        "id": "hP0lcYPxBSnx",
        "outputId": "7f9e1bff-0134-44c1-c640-113a4b53249b"
      },
      "execution_count": null,
      "outputs": [
        {
          "output_type": "stream",
          "name": "stdout",
          "text": [
            "Original DataFrame:\n",
            "    Age     Sex Embarked   Fare\n",
            "0  22.0    male        B   7.25\n",
            "1   NaN  female        B  71.83\n",
            "2  24.0  female        C   8.05\n",
            "3  22.0    male        C   7.25\n",
            "4   NaN  female        C  71.83\n",
            "5  24.0  female        S   8.05\n",
            "\n",
            "Transformed Data Shape:\n",
            "(6, 7)\n",
            "\n",
            "Transformed DataFrame:\n",
            "      0    1    2    3    4    5      6\n",
            "0  22.0  0.0  1.0  1.0  0.0  0.0   7.25\n",
            "1  23.0  1.0  0.0  1.0  0.0  0.0  71.83\n",
            "2  24.0  1.0  0.0  0.0  1.0  0.0   8.05\n",
            "3  22.0  0.0  1.0  0.0  1.0  0.0   7.25\n",
            "4  23.0  1.0  0.0  0.0  1.0  0.0  71.83\n",
            "5  24.0  1.0  0.0  0.0  0.0  1.0   8.05\n"
          ]
        }
      ]
    },
    {
      "cell_type": "markdown",
      "source": [
        "**Function Transfomer**"
      ],
      "metadata": {
        "id": "na1w-sVcsBQK"
      }
    },
    {
      "cell_type": "code",
      "source": [
        "# Sample DataFrame\n",
        "data = pd.DataFrame({\n",
        "    'Age': [22, None, 24,22, None, 24],\n",
        "    'Sex': ['male', 'female', 'female','male', 'female', 'female'],\n",
        "    'Embarked': ['B', 'B', 'C', None, 'C','S'],\n",
        "    'Fare': [7.25, 71.83, 8.05,7.25, 71.83, 8.05]\n",
        "})\n",
        "\n",
        "print(\"Original DataFrame:\")\n",
        "print(data)\n",
        "\n",
        "# Custom function to impute 'Embarked'\n",
        "def impute_embarked(X):\n",
        "    X['Embarked'] = X['Embarked'].fillna(X['Embarked'].mode()[0])  # Fill missing values\n",
        "    print(X['Embarked'])\n",
        "    return X\n",
        "\n",
        "# Define ColumnTransformer\n",
        "preprocessor = ColumnTransformer(transformers=[\n",
        "    ('age_imputer', SimpleImputer(strategy='mean'), ['Age']),\n",
        "    ('embarked_imputer', FunctionTransformer(impute_embarked), ['Embarked']),\n",
        "    ('ohe', OneHotEncoder(), ['Sex','Embarked'])\n",
        "], remainder='passthrough')  # Pass through other columns like 'Fare'\n",
        "\n",
        "# Transform the data\n",
        "transformed_data = preprocessor.fit_transform(data)\n",
        "\n",
        "# Output shape and transformed data\n",
        "print(\"\\nTransformed Data Shape:\")\n",
        "print(transformed_data.shape)\n",
        "print(transformed_data)\n",
        "\n",
        "\n",
        "transformed_df = pd.DataFrame(transformed_data)\n",
        "print(\"\\nTransformed DataFrame:\")\n",
        "print(transformed_df)\n"
      ],
      "metadata": {
        "colab": {
          "base_uri": "https://localhost:8080/"
        },
        "id": "vcNKBPaJmV2D",
        "outputId": "8a1b5e36-a5ff-46c1-9297-c4ce16630147"
      },
      "execution_count": null,
      "outputs": [
        {
          "output_type": "stream",
          "name": "stdout",
          "text": [
            "Original DataFrame:\n",
            "    Age     Sex Embarked   Fare\n",
            "0  22.0    male        B   7.25\n",
            "1   NaN  female        B  71.83\n",
            "2  24.0  female        C   8.05\n",
            "3  22.0    male     None   7.25\n",
            "4   NaN  female        C  71.83\n",
            "5  24.0  female        S   8.05\n",
            "0    B\n",
            "1    B\n",
            "2    C\n",
            "3    B\n",
            "4    C\n",
            "5    S\n",
            "Name: Embarked, dtype: object\n",
            "\n",
            "Transformed Data Shape:\n",
            "(6, 9)\n",
            "[[22.0 'B' 0.0 1.0 1.0 0.0 0.0 0.0 7.25]\n",
            " [23.0 'B' 1.0 0.0 1.0 0.0 0.0 0.0 71.83]\n",
            " [24.0 'C' 1.0 0.0 0.0 1.0 0.0 0.0 8.05]\n",
            " [22.0 'B' 0.0 1.0 0.0 0.0 0.0 1.0 7.25]\n",
            " [23.0 'C' 1.0 0.0 0.0 1.0 0.0 0.0 71.83]\n",
            " [24.0 'S' 1.0 0.0 0.0 0.0 1.0 0.0 8.05]]\n",
            "\n",
            "Transformed DataFrame:\n",
            "      0  1    2    3    4    5    6    7      8\n",
            "0  22.0  B  0.0  1.0  1.0  0.0  0.0  0.0   7.25\n",
            "1  23.0  B  1.0  0.0  1.0  0.0  0.0  0.0  71.83\n",
            "2  24.0  C  1.0  0.0  0.0  1.0  0.0  0.0   8.05\n",
            "3  22.0  B  0.0  1.0  0.0  0.0  0.0  1.0   7.25\n",
            "4  23.0  C  1.0  0.0  0.0  1.0  0.0  0.0  71.83\n",
            "5  24.0  S  1.0  0.0  0.0  0.0  1.0  0.0   8.05\n"
          ]
        }
      ]
    },
    {
      "cell_type": "markdown",
      "source": [
        "**Sklean Pipeline**"
      ],
      "metadata": {
        "id": "FduUyuJ7r7Ps"
      }
    },
    {
      "cell_type": "code",
      "source": [
        "# Sample DataFrame\n",
        "data = pd.DataFrame({\n",
        "    'Age': [22, None, 24,22, None, 24],\n",
        "    'Sex': ['male', 'female', 'female','male', 'female', 'female'],\n",
        "    'Embarked': ['B', 'B', 'C', None, 'C','S'],\n",
        "    'Fare': [7.25, 71.83, 8.05,7.25, 71.83, 8.05]\n",
        "})\n",
        "\n",
        "print(\"Original DataFrame:\")\n",
        "print(data)\n",
        "\n",
        "# Custom function to impute 'Embarked'\n",
        "def impute_embarked(X):\n",
        "    X['Embarked'] = X['Embarked'].fillna(X['Embarked'].mode()[0])  # Fill missing values\n",
        "    print (X['Embarked'])\n",
        "    return X\n",
        "\n",
        "preprocessor = ColumnTransformer(transformers=[\n",
        "    ('age_imputer', SimpleImputer(strategy='mean'), ['Age']),\n",
        "    ('embarked_encoder', Pipeline(steps=[\n",
        "        ('imputer', FunctionTransformer(impute_embarked)),  # Impute Embarked first\n",
        "        ('onehot', OneHotEncoder())  # Then apply OneHotEncoder\n",
        "    ]), ['Embarked']),\n",
        "    ('ohe', OneHotEncoder(), ['Sex'])\n",
        "], remainder='passthrough')  # Pass through other columns like 'Fare'\n",
        "\n",
        "\n",
        "# Transform the data\n",
        "transformed_data = preprocessor.fit_transform(data)\n",
        "\n",
        "# Output shape and transformed data\n",
        "print(\"\\nTransformed Data Shape:\")\n",
        "print(transformed_data.shape)\n",
        "print(transformed_data)\n",
        "\n",
        "transformed_df = pd.DataFrame(transformed_data)\n",
        "print(\"\\nTransformed DataFrame:\")\n",
        "print(transformed_df)\n"
      ],
      "metadata": {
        "colab": {
          "base_uri": "https://localhost:8080/"
        },
        "id": "dPRNoA9DWCRV",
        "outputId": "2d62740a-be17-4c84-b022-1bcf18f7081e"
      },
      "execution_count": null,
      "outputs": [
        {
          "output_type": "stream",
          "name": "stdout",
          "text": [
            "Original DataFrame:\n",
            "    Age     Sex Embarked   Fare\n",
            "0  22.0    male        B   7.25\n",
            "1   NaN  female        B  71.83\n",
            "2  24.0  female        C   8.05\n",
            "3  22.0    male     None   7.25\n",
            "4   NaN  female        C  71.83\n",
            "5  24.0  female        S   8.05\n",
            "0    B\n",
            "1    B\n",
            "2    C\n",
            "3    B\n",
            "4    C\n",
            "5    S\n",
            "Name: Embarked, dtype: object\n",
            "\n",
            "Transformed Data Shape:\n",
            "(6, 7)\n",
            "[[22.    1.    0.    0.    0.    1.    7.25]\n",
            " [23.    1.    0.    0.    1.    0.   71.83]\n",
            " [24.    0.    1.    0.    1.    0.    8.05]\n",
            " [22.    1.    0.    0.    0.    1.    7.25]\n",
            " [23.    0.    1.    0.    1.    0.   71.83]\n",
            " [24.    0.    0.    1.    1.    0.    8.05]]\n",
            "\n",
            "Transformed DataFrame:\n",
            "      0    1    2    3    4    5      6\n",
            "0  22.0  1.0  0.0  0.0  0.0  1.0   7.25\n",
            "1  23.0  1.0  0.0  0.0  1.0  0.0  71.83\n",
            "2  24.0  0.0  1.0  0.0  1.0  0.0   8.05\n",
            "3  22.0  1.0  0.0  0.0  0.0  1.0   7.25\n",
            "4  23.0  0.0  1.0  0.0  1.0  0.0  71.83\n",
            "5  24.0  0.0  0.0  1.0  1.0  0.0   8.05\n"
          ]
        }
      ]
    },
    {
      "cell_type": "markdown",
      "source": [
        "# Titanic Dataset Lab Task"
      ],
      "metadata": {
        "id": "y0RXfz65MA1Z"
      }
    },
    {
      "cell_type": "code",
      "source": [
        "titanic['FamilySize'] = titanic['SibSp']+titanic['Parch']+1"
      ],
      "metadata": {
        "id": "gguwBUySMAj1"
      },
      "execution_count": null,
      "outputs": []
    },
    {
      "cell_type": "code",
      "source": [
        "titanic.head()"
      ],
      "metadata": {
        "id": "K8YID_EOMKoA",
        "outputId": "47707935-ca07-4b6c-c359-0785b5f02bfe",
        "colab": {
          "base_uri": "https://localhost:8080/",
          "height": 504
        }
      },
      "execution_count": null,
      "outputs": [
        {
          "output_type": "execute_result",
          "data": {
            "text/plain": [
              "   PassengerId  Survived  Pclass  \\\n",
              "0            1         0       3   \n",
              "1            2         1       1   \n",
              "2            3         1       3   \n",
              "3            4         1       1   \n",
              "4            5         0       3   \n",
              "\n",
              "                                                Name     Sex       Age  SibSp  \\\n",
              "0                            Braund, Mr. Owen Harris    male  0.271174      1   \n",
              "1  Cumings, Mrs. John Bradley (Florence Briggs Th...  female  0.472229      1   \n",
              "2                             Heikkinen, Miss. Laina  female  0.321438      0   \n",
              "3       Futrelle, Mrs. Jacques Heath (Lily May Peel)  female  0.434531      1   \n",
              "4                           Allen, Mr. William Henry    male  0.434531      0   \n",
              "\n",
              "   Parch            Ticket      Fare Cabin Embarked  Title_Group_Master  \\\n",
              "0      0         A/5 21171  0.014151   NaN        S                   0   \n",
              "1      0          PC 17599  0.139136   C85        C                   0   \n",
              "2      0  STON/O2. 3101282  0.015469   NaN        S                   0   \n",
              "3      0            113803  0.103644  C123        S                   0   \n",
              "4      0            373450  0.015713   NaN        S                   0   \n",
              "\n",
              "   Title_Group_Miss  Title_Group_Mr  Title_Group_Mrs  Title_Group_Officer  \\\n",
              "0                 0               1                0                    0   \n",
              "1                 0               0                1                    0   \n",
              "2                 1               0                0                    0   \n",
              "3                 0               0                1                    0   \n",
              "4                 0               1                0                    0   \n",
              "\n",
              "   Title_Group_Royalty  FamilySize  \n",
              "0                    0           2  \n",
              "1                    0           2  \n",
              "2                    0           1  \n",
              "3                    0           2  \n",
              "4                    0           1  "
            ],
            "text/html": [
              "\n",
              "  <div id=\"df-6651505a-25b4-4d13-a82f-a4b55ae59d28\" class=\"colab-df-container\">\n",
              "    <div>\n",
              "<style scoped>\n",
              "    .dataframe tbody tr th:only-of-type {\n",
              "        vertical-align: middle;\n",
              "    }\n",
              "\n",
              "    .dataframe tbody tr th {\n",
              "        vertical-align: top;\n",
              "    }\n",
              "\n",
              "    .dataframe thead th {\n",
              "        text-align: right;\n",
              "    }\n",
              "</style>\n",
              "<table border=\"1\" class=\"dataframe\">\n",
              "  <thead>\n",
              "    <tr style=\"text-align: right;\">\n",
              "      <th></th>\n",
              "      <th>PassengerId</th>\n",
              "      <th>Survived</th>\n",
              "      <th>Pclass</th>\n",
              "      <th>Name</th>\n",
              "      <th>Sex</th>\n",
              "      <th>Age</th>\n",
              "      <th>SibSp</th>\n",
              "      <th>Parch</th>\n",
              "      <th>Ticket</th>\n",
              "      <th>Fare</th>\n",
              "      <th>Cabin</th>\n",
              "      <th>Embarked</th>\n",
              "      <th>Title_Group_Master</th>\n",
              "      <th>Title_Group_Miss</th>\n",
              "      <th>Title_Group_Mr</th>\n",
              "      <th>Title_Group_Mrs</th>\n",
              "      <th>Title_Group_Officer</th>\n",
              "      <th>Title_Group_Royalty</th>\n",
              "      <th>FamilySize</th>\n",
              "    </tr>\n",
              "  </thead>\n",
              "  <tbody>\n",
              "    <tr>\n",
              "      <th>0</th>\n",
              "      <td>1</td>\n",
              "      <td>0</td>\n",
              "      <td>3</td>\n",
              "      <td>Braund, Mr. Owen Harris</td>\n",
              "      <td>male</td>\n",
              "      <td>0.271174</td>\n",
              "      <td>1</td>\n",
              "      <td>0</td>\n",
              "      <td>A/5 21171</td>\n",
              "      <td>0.014151</td>\n",
              "      <td>NaN</td>\n",
              "      <td>S</td>\n",
              "      <td>0</td>\n",
              "      <td>0</td>\n",
              "      <td>1</td>\n",
              "      <td>0</td>\n",
              "      <td>0</td>\n",
              "      <td>0</td>\n",
              "      <td>2</td>\n",
              "    </tr>\n",
              "    <tr>\n",
              "      <th>1</th>\n",
              "      <td>2</td>\n",
              "      <td>1</td>\n",
              "      <td>1</td>\n",
              "      <td>Cumings, Mrs. John Bradley (Florence Briggs Th...</td>\n",
              "      <td>female</td>\n",
              "      <td>0.472229</td>\n",
              "      <td>1</td>\n",
              "      <td>0</td>\n",
              "      <td>PC 17599</td>\n",
              "      <td>0.139136</td>\n",
              "      <td>C85</td>\n",
              "      <td>C</td>\n",
              "      <td>0</td>\n",
              "      <td>0</td>\n",
              "      <td>0</td>\n",
              "      <td>1</td>\n",
              "      <td>0</td>\n",
              "      <td>0</td>\n",
              "      <td>2</td>\n",
              "    </tr>\n",
              "    <tr>\n",
              "      <th>2</th>\n",
              "      <td>3</td>\n",
              "      <td>1</td>\n",
              "      <td>3</td>\n",
              "      <td>Heikkinen, Miss. Laina</td>\n",
              "      <td>female</td>\n",
              "      <td>0.321438</td>\n",
              "      <td>0</td>\n",
              "      <td>0</td>\n",
              "      <td>STON/O2. 3101282</td>\n",
              "      <td>0.015469</td>\n",
              "      <td>NaN</td>\n",
              "      <td>S</td>\n",
              "      <td>0</td>\n",
              "      <td>1</td>\n",
              "      <td>0</td>\n",
              "      <td>0</td>\n",
              "      <td>0</td>\n",
              "      <td>0</td>\n",
              "      <td>1</td>\n",
              "    </tr>\n",
              "    <tr>\n",
              "      <th>3</th>\n",
              "      <td>4</td>\n",
              "      <td>1</td>\n",
              "      <td>1</td>\n",
              "      <td>Futrelle, Mrs. Jacques Heath (Lily May Peel)</td>\n",
              "      <td>female</td>\n",
              "      <td>0.434531</td>\n",
              "      <td>1</td>\n",
              "      <td>0</td>\n",
              "      <td>113803</td>\n",
              "      <td>0.103644</td>\n",
              "      <td>C123</td>\n",
              "      <td>S</td>\n",
              "      <td>0</td>\n",
              "      <td>0</td>\n",
              "      <td>0</td>\n",
              "      <td>1</td>\n",
              "      <td>0</td>\n",
              "      <td>0</td>\n",
              "      <td>2</td>\n",
              "    </tr>\n",
              "    <tr>\n",
              "      <th>4</th>\n",
              "      <td>5</td>\n",
              "      <td>0</td>\n",
              "      <td>3</td>\n",
              "      <td>Allen, Mr. William Henry</td>\n",
              "      <td>male</td>\n",
              "      <td>0.434531</td>\n",
              "      <td>0</td>\n",
              "      <td>0</td>\n",
              "      <td>373450</td>\n",
              "      <td>0.015713</td>\n",
              "      <td>NaN</td>\n",
              "      <td>S</td>\n",
              "      <td>0</td>\n",
              "      <td>0</td>\n",
              "      <td>1</td>\n",
              "      <td>0</td>\n",
              "      <td>0</td>\n",
              "      <td>0</td>\n",
              "      <td>1</td>\n",
              "    </tr>\n",
              "  </tbody>\n",
              "</table>\n",
              "</div>\n",
              "    <div class=\"colab-df-buttons\">\n",
              "\n",
              "  <div class=\"colab-df-container\">\n",
              "    <button class=\"colab-df-convert\" onclick=\"convertToInteractive('df-6651505a-25b4-4d13-a82f-a4b55ae59d28')\"\n",
              "            title=\"Convert this dataframe to an interactive table.\"\n",
              "            style=\"display:none;\">\n",
              "\n",
              "  <svg xmlns=\"http://www.w3.org/2000/svg\" height=\"24px\" viewBox=\"0 -960 960 960\">\n",
              "    <path d=\"M120-120v-720h720v720H120Zm60-500h600v-160H180v160Zm220 220h160v-160H400v160Zm0 220h160v-160H400v160ZM180-400h160v-160H180v160Zm440 0h160v-160H620v160ZM180-180h160v-160H180v160Zm440 0h160v-160H620v160Z\"/>\n",
              "  </svg>\n",
              "    </button>\n",
              "\n",
              "  <style>\n",
              "    .colab-df-container {\n",
              "      display:flex;\n",
              "      gap: 12px;\n",
              "    }\n",
              "\n",
              "    .colab-df-convert {\n",
              "      background-color: #E8F0FE;\n",
              "      border: none;\n",
              "      border-radius: 50%;\n",
              "      cursor: pointer;\n",
              "      display: none;\n",
              "      fill: #1967D2;\n",
              "      height: 32px;\n",
              "      padding: 0 0 0 0;\n",
              "      width: 32px;\n",
              "    }\n",
              "\n",
              "    .colab-df-convert:hover {\n",
              "      background-color: #E2EBFA;\n",
              "      box-shadow: 0px 1px 2px rgba(60, 64, 67, 0.3), 0px 1px 3px 1px rgba(60, 64, 67, 0.15);\n",
              "      fill: #174EA6;\n",
              "    }\n",
              "\n",
              "    .colab-df-buttons div {\n",
              "      margin-bottom: 4px;\n",
              "    }\n",
              "\n",
              "    [theme=dark] .colab-df-convert {\n",
              "      background-color: #3B4455;\n",
              "      fill: #D2E3FC;\n",
              "    }\n",
              "\n",
              "    [theme=dark] .colab-df-convert:hover {\n",
              "      background-color: #434B5C;\n",
              "      box-shadow: 0px 1px 3px 1px rgba(0, 0, 0, 0.15);\n",
              "      filter: drop-shadow(0px 1px 2px rgba(0, 0, 0, 0.3));\n",
              "      fill: #FFFFFF;\n",
              "    }\n",
              "  </style>\n",
              "\n",
              "    <script>\n",
              "      const buttonEl =\n",
              "        document.querySelector('#df-6651505a-25b4-4d13-a82f-a4b55ae59d28 button.colab-df-convert');\n",
              "      buttonEl.style.display =\n",
              "        google.colab.kernel.accessAllowed ? 'block' : 'none';\n",
              "\n",
              "      async function convertToInteractive(key) {\n",
              "        const element = document.querySelector('#df-6651505a-25b4-4d13-a82f-a4b55ae59d28');\n",
              "        const dataTable =\n",
              "          await google.colab.kernel.invokeFunction('convertToInteractive',\n",
              "                                                    [key], {});\n",
              "        if (!dataTable) return;\n",
              "\n",
              "        const docLinkHtml = 'Like what you see? Visit the ' +\n",
              "          '<a target=\"_blank\" href=https://colab.research.google.com/notebooks/data_table.ipynb>data table notebook</a>'\n",
              "          + ' to learn more about interactive tables.';\n",
              "        element.innerHTML = '';\n",
              "        dataTable['output_type'] = 'display_data';\n",
              "        await google.colab.output.renderOutput(dataTable, element);\n",
              "        const docLink = document.createElement('div');\n",
              "        docLink.innerHTML = docLinkHtml;\n",
              "        element.appendChild(docLink);\n",
              "      }\n",
              "    </script>\n",
              "  </div>\n",
              "\n",
              "\n",
              "<div id=\"df-82b49cff-e841-4550-bc05-2e48dc556020\">\n",
              "  <button class=\"colab-df-quickchart\" onclick=\"quickchart('df-82b49cff-e841-4550-bc05-2e48dc556020')\"\n",
              "            title=\"Suggest charts\"\n",
              "            style=\"display:none;\">\n",
              "\n",
              "<svg xmlns=\"http://www.w3.org/2000/svg\" height=\"24px\"viewBox=\"0 0 24 24\"\n",
              "     width=\"24px\">\n",
              "    <g>\n",
              "        <path d=\"M19 3H5c-1.1 0-2 .9-2 2v14c0 1.1.9 2 2 2h14c1.1 0 2-.9 2-2V5c0-1.1-.9-2-2-2zM9 17H7v-7h2v7zm4 0h-2V7h2v10zm4 0h-2v-4h2v4z\"/>\n",
              "    </g>\n",
              "</svg>\n",
              "  </button>\n",
              "\n",
              "<style>\n",
              "  .colab-df-quickchart {\n",
              "      --bg-color: #E8F0FE;\n",
              "      --fill-color: #1967D2;\n",
              "      --hover-bg-color: #E2EBFA;\n",
              "      --hover-fill-color: #174EA6;\n",
              "      --disabled-fill-color: #AAA;\n",
              "      --disabled-bg-color: #DDD;\n",
              "  }\n",
              "\n",
              "  [theme=dark] .colab-df-quickchart {\n",
              "      --bg-color: #3B4455;\n",
              "      --fill-color: #D2E3FC;\n",
              "      --hover-bg-color: #434B5C;\n",
              "      --hover-fill-color: #FFFFFF;\n",
              "      --disabled-bg-color: #3B4455;\n",
              "      --disabled-fill-color: #666;\n",
              "  }\n",
              "\n",
              "  .colab-df-quickchart {\n",
              "    background-color: var(--bg-color);\n",
              "    border: none;\n",
              "    border-radius: 50%;\n",
              "    cursor: pointer;\n",
              "    display: none;\n",
              "    fill: var(--fill-color);\n",
              "    height: 32px;\n",
              "    padding: 0;\n",
              "    width: 32px;\n",
              "  }\n",
              "\n",
              "  .colab-df-quickchart:hover {\n",
              "    background-color: var(--hover-bg-color);\n",
              "    box-shadow: 0 1px 2px rgba(60, 64, 67, 0.3), 0 1px 3px 1px rgba(60, 64, 67, 0.15);\n",
              "    fill: var(--button-hover-fill-color);\n",
              "  }\n",
              "\n",
              "  .colab-df-quickchart-complete:disabled,\n",
              "  .colab-df-quickchart-complete:disabled:hover {\n",
              "    background-color: var(--disabled-bg-color);\n",
              "    fill: var(--disabled-fill-color);\n",
              "    box-shadow: none;\n",
              "  }\n",
              "\n",
              "  .colab-df-spinner {\n",
              "    border: 2px solid var(--fill-color);\n",
              "    border-color: transparent;\n",
              "    border-bottom-color: var(--fill-color);\n",
              "    animation:\n",
              "      spin 1s steps(1) infinite;\n",
              "  }\n",
              "\n",
              "  @keyframes spin {\n",
              "    0% {\n",
              "      border-color: transparent;\n",
              "      border-bottom-color: var(--fill-color);\n",
              "      border-left-color: var(--fill-color);\n",
              "    }\n",
              "    20% {\n",
              "      border-color: transparent;\n",
              "      border-left-color: var(--fill-color);\n",
              "      border-top-color: var(--fill-color);\n",
              "    }\n",
              "    30% {\n",
              "      border-color: transparent;\n",
              "      border-left-color: var(--fill-color);\n",
              "      border-top-color: var(--fill-color);\n",
              "      border-right-color: var(--fill-color);\n",
              "    }\n",
              "    40% {\n",
              "      border-color: transparent;\n",
              "      border-right-color: var(--fill-color);\n",
              "      border-top-color: var(--fill-color);\n",
              "    }\n",
              "    60% {\n",
              "      border-color: transparent;\n",
              "      border-right-color: var(--fill-color);\n",
              "    }\n",
              "    80% {\n",
              "      border-color: transparent;\n",
              "      border-right-color: var(--fill-color);\n",
              "      border-bottom-color: var(--fill-color);\n",
              "    }\n",
              "    90% {\n",
              "      border-color: transparent;\n",
              "      border-bottom-color: var(--fill-color);\n",
              "    }\n",
              "  }\n",
              "</style>\n",
              "\n",
              "  <script>\n",
              "    async function quickchart(key) {\n",
              "      const quickchartButtonEl =\n",
              "        document.querySelector('#' + key + ' button');\n",
              "      quickchartButtonEl.disabled = true;  // To prevent multiple clicks.\n",
              "      quickchartButtonEl.classList.add('colab-df-spinner');\n",
              "      try {\n",
              "        const charts = await google.colab.kernel.invokeFunction(\n",
              "            'suggestCharts', [key], {});\n",
              "      } catch (error) {\n",
              "        console.error('Error during call to suggestCharts:', error);\n",
              "      }\n",
              "      quickchartButtonEl.classList.remove('colab-df-spinner');\n",
              "      quickchartButtonEl.classList.add('colab-df-quickchart-complete');\n",
              "    }\n",
              "    (() => {\n",
              "      let quickchartButtonEl =\n",
              "        document.querySelector('#df-82b49cff-e841-4550-bc05-2e48dc556020 button');\n",
              "      quickchartButtonEl.style.display =\n",
              "        google.colab.kernel.accessAllowed ? 'block' : 'none';\n",
              "    })();\n",
              "  </script>\n",
              "</div>\n",
              "\n",
              "    </div>\n",
              "  </div>\n"
            ],
            "application/vnd.google.colaboratory.intrinsic+json": {
              "type": "dataframe",
              "variable_name": "titanic",
              "summary": "{\n  \"name\": \"titanic\",\n  \"rows\": 891,\n  \"fields\": [\n    {\n      \"column\": \"PassengerId\",\n      \"properties\": {\n        \"dtype\": \"number\",\n        \"std\": 257,\n        \"min\": 1,\n        \"max\": 891,\n        \"num_unique_values\": 891,\n        \"samples\": [\n          710,\n          440,\n          841\n        ],\n        \"semantic_type\": \"\",\n        \"description\": \"\"\n      }\n    },\n    {\n      \"column\": \"Survived\",\n      \"properties\": {\n        \"dtype\": \"number\",\n        \"std\": 0,\n        \"min\": 0,\n        \"max\": 1,\n        \"num_unique_values\": 2,\n        \"samples\": [\n          1,\n          0\n        ],\n        \"semantic_type\": \"\",\n        \"description\": \"\"\n      }\n    },\n    {\n      \"column\": \"Pclass\",\n      \"properties\": {\n        \"dtype\": \"number\",\n        \"std\": 0,\n        \"min\": 1,\n        \"max\": 3,\n        \"num_unique_values\": 3,\n        \"samples\": [\n          3,\n          1\n        ],\n        \"semantic_type\": \"\",\n        \"description\": \"\"\n      }\n    },\n    {\n      \"column\": \"Name\",\n      \"properties\": {\n        \"dtype\": \"string\",\n        \"num_unique_values\": 891,\n        \"samples\": [\n          \"Moubarek, Master. Halim Gonios (\\\"William George\\\")\",\n          \"Kvillner, Mr. Johan Henrik Johannesson\"\n        ],\n        \"semantic_type\": \"\",\n        \"description\": \"\"\n      }\n    },\n    {\n      \"column\": \"Sex\",\n      \"properties\": {\n        \"dtype\": \"category\",\n        \"num_unique_values\": 2,\n        \"samples\": [\n          \"female\",\n          \"male\"\n        ],\n        \"semantic_type\": \"\",\n        \"description\": \"\"\n      }\n    },\n    {\n      \"column\": \"Age\",\n      \"properties\": {\n        \"dtype\": \"number\",\n        \"std\": 0.1636051338398237,\n        \"min\": 0.0,\n        \"max\": 1.0,\n        \"num_unique_values\": 88,\n        \"samples\": [\n          0.0041467705453631576,\n          0.2711736617240512\n        ],\n        \"semantic_type\": \"\",\n        \"description\": \"\"\n      }\n    },\n    {\n      \"column\": \"SibSp\",\n      \"properties\": {\n        \"dtype\": \"number\",\n        \"std\": 1,\n        \"min\": 0,\n        \"max\": 8,\n        \"num_unique_values\": 7,\n        \"samples\": [\n          1,\n          0\n        ],\n        \"semantic_type\": \"\",\n        \"description\": \"\"\n      }\n    },\n    {\n      \"column\": \"Parch\",\n      \"properties\": {\n        \"dtype\": \"number\",\n        \"std\": 0,\n        \"min\": 0,\n        \"max\": 6,\n        \"num_unique_values\": 7,\n        \"samples\": [\n          0,\n          1\n        ],\n        \"semantic_type\": \"\",\n        \"description\": \"\"\n      }\n    },\n    {\n      \"column\": \"Ticket\",\n      \"properties\": {\n        \"dtype\": \"string\",\n        \"num_unique_values\": 681,\n        \"samples\": [\n          \"11774\",\n          \"248740\"\n        ],\n        \"semantic_type\": \"\",\n        \"description\": \"\"\n      }\n    },\n    {\n      \"column\": \"Fare\",\n      \"properties\": {\n        \"dtype\": \"number\",\n        \"std\": 0.09699511290237,\n        \"min\": 0.0,\n        \"max\": 1.0,\n        \"num_unique_values\": 248,\n        \"samples\": [\n          0.021942337075458514,\n          0.10122885832000206\n        ],\n        \"semantic_type\": \"\",\n        \"description\": \"\"\n      }\n    },\n    {\n      \"column\": \"Cabin\",\n      \"properties\": {\n        \"dtype\": \"category\",\n        \"num_unique_values\": 147,\n        \"samples\": [\n          \"D45\",\n          \"B49\"\n        ],\n        \"semantic_type\": \"\",\n        \"description\": \"\"\n      }\n    },\n    {\n      \"column\": \"Embarked\",\n      \"properties\": {\n        \"dtype\": \"category\",\n        \"num_unique_values\": 3,\n        \"samples\": [\n          \"S\",\n          \"C\"\n        ],\n        \"semantic_type\": \"\",\n        \"description\": \"\"\n      }\n    },\n    {\n      \"column\": \"Title_Group_Master\",\n      \"properties\": {\n        \"dtype\": \"number\",\n        \"std\": 0,\n        \"min\": 0,\n        \"max\": 1,\n        \"num_unique_values\": 2,\n        \"samples\": [\n          1,\n          0\n        ],\n        \"semantic_type\": \"\",\n        \"description\": \"\"\n      }\n    },\n    {\n      \"column\": \"Title_Group_Miss\",\n      \"properties\": {\n        \"dtype\": \"number\",\n        \"std\": 0,\n        \"min\": 0,\n        \"max\": 1,\n        \"num_unique_values\": 2,\n        \"samples\": [\n          1,\n          0\n        ],\n        \"semantic_type\": \"\",\n        \"description\": \"\"\n      }\n    },\n    {\n      \"column\": \"Title_Group_Mr\",\n      \"properties\": {\n        \"dtype\": \"number\",\n        \"std\": 0,\n        \"min\": 0,\n        \"max\": 1,\n        \"num_unique_values\": 2,\n        \"samples\": [\n          0,\n          1\n        ],\n        \"semantic_type\": \"\",\n        \"description\": \"\"\n      }\n    },\n    {\n      \"column\": \"Title_Group_Mrs\",\n      \"properties\": {\n        \"dtype\": \"number\",\n        \"std\": 0,\n        \"min\": 0,\n        \"max\": 1,\n        \"num_unique_values\": 2,\n        \"samples\": [\n          1,\n          0\n        ],\n        \"semantic_type\": \"\",\n        \"description\": \"\"\n      }\n    },\n    {\n      \"column\": \"Title_Group_Officer\",\n      \"properties\": {\n        \"dtype\": \"number\",\n        \"std\": 0,\n        \"min\": 0,\n        \"max\": 1,\n        \"num_unique_values\": 2,\n        \"samples\": [\n          1,\n          0\n        ],\n        \"semantic_type\": \"\",\n        \"description\": \"\"\n      }\n    },\n    {\n      \"column\": \"Title_Group_Royalty\",\n      \"properties\": {\n        \"dtype\": \"number\",\n        \"std\": 0,\n        \"min\": 0,\n        \"max\": 1,\n        \"num_unique_values\": 2,\n        \"samples\": [\n          1,\n          0\n        ],\n        \"semantic_type\": \"\",\n        \"description\": \"\"\n      }\n    },\n    {\n      \"column\": \"FamilySize\",\n      \"properties\": {\n        \"dtype\": \"number\",\n        \"std\": 1,\n        \"min\": 1,\n        \"max\": 11,\n        \"num_unique_values\": 9,\n        \"samples\": [\n          8,\n          1\n        ],\n        \"semantic_type\": \"\",\n        \"description\": \"\"\n      }\n    }\n  ]\n}"
            }
          },
          "metadata": {},
          "execution_count": 33
        }
      ]
    },
    {
      "cell_type": "code",
      "source": [],
      "metadata": {
        "id": "9JGNneLUMhNz"
      },
      "execution_count": null,
      "outputs": []
    },
    {
      "cell_type": "code",
      "source": [
        "# Target and feature separation\n",
        "X = titanic.drop(columns=['Survived', 'PassengerId', 'Name', 'Ticket', 'Cabin'])\n",
        "y = titanic['Survived']\n",
        "\n",
        "# Columns by type\n",
        "numeric_features = ['Age', 'Fare', 'FamilySize']\n",
        "categorical_features = ['Sex', 'Embarked', 'Pclass']\n",
        "\n",
        "title_features = ['Title_Group_Master', 'Title_Group_Miss', 'Title_Group_Mr',\n",
        "                  'Title_Group_Mrs', 'Title_Group_Officer', 'Title_Group_Royalty']\n",
        "\n",
        "\n",
        "# Custom function to impute 'Embarked'\n",
        "def impute_embarked(X):\n",
        "    X['Embarked'] = X['Embarked'].fillna(X['Embarked'].mode()[0])  # Fill missing values\n",
        "    print (X['Embarked'])\n",
        "    return X\n",
        "\n",
        "preprocessor = ColumnTransformer(transformers=[\n",
        "    ('age_imputer', SimpleImputer(strategy='mean'), ['Age']),\n",
        "    ('embarked_encoder', Pipeline(steps=[\n",
        "        ('imputer', FunctionTransformer(impute_embarked)),  # Impute Embarked first\n",
        "        ('onehot', OneHotEncoder())  # Then apply OneHotEncoder\n",
        "    ]), ['Embarked']),\n",
        "    ('ohe', OneHotEncoder(), ['Sex'])\n",
        "], remainder='passthrough')  # Pass through other columns like 'Fare'\n",
        "\n",
        "\n",
        "# Transform the data\n",
        "transformed_data = preprocessor.fit_transform(data)\n",
        "\n",
        "# Output shape and transformed data\n",
        "print(\"\\nTransformed Data Shape:\")\n",
        "print(transformed_data.shape)\n",
        "print(transformed_data)\n",
        "\n",
        "transformed_df = pd.DataFrame(transformed_data)\n",
        "print(\"\\nTransformed DataFrame:\")\n",
        "print(transformed_df)\n"
      ],
      "metadata": {
        "id": "lyQ0kVe1Mhkm",
        "outputId": "1b6a69c1-a2e8-4541-f86c-7881e6bf3875",
        "colab": {
          "base_uri": "https://localhost:8080/"
        }
      },
      "execution_count": null,
      "outputs": [
        {
          "output_type": "stream",
          "name": "stdout",
          "text": [
            "0    B\n",
            "1    B\n",
            "2    C\n",
            "3    B\n",
            "4    C\n",
            "5    S\n",
            "Name: Embarked, dtype: object\n",
            "\n",
            "Transformed Data Shape:\n",
            "(6, 7)\n",
            "[[22.    1.    0.    0.    0.    1.    7.25]\n",
            " [23.    1.    0.    0.    1.    0.   71.83]\n",
            " [24.    0.    1.    0.    1.    0.    8.05]\n",
            " [22.    1.    0.    0.    0.    1.    7.25]\n",
            " [23.    0.    1.    0.    1.    0.   71.83]\n",
            " [24.    0.    0.    1.    1.    0.    8.05]]\n",
            "\n",
            "Transformed DataFrame:\n",
            "      0    1    2    3    4    5      6\n",
            "0  22.0  1.0  0.0  0.0  0.0  1.0   7.25\n",
            "1  23.0  1.0  0.0  0.0  1.0  0.0  71.83\n",
            "2  24.0  0.0  1.0  0.0  1.0  0.0   8.05\n",
            "3  22.0  1.0  0.0  0.0  0.0  1.0   7.25\n",
            "4  23.0  0.0  1.0  0.0  1.0  0.0  71.83\n",
            "5  24.0  0.0  0.0  1.0  1.0  0.0   8.05\n"
          ]
        }
      ]
    },
    {
      "cell_type": "code",
      "source": [],
      "metadata": {
        "id": "g624S1v2MhIZ"
      },
      "execution_count": null,
      "outputs": []
    },
    {
      "cell_type": "markdown",
      "source": [
        "# Lab Task\n",
        "\n",
        "**Apply Feature Creation preprocessing step on the Titanic dataset to create a Family Size feature which calculates Family Size for each Passenger using following Equation. FamilySize = SibSp + Parch + 1**\n",
        "\n",
        "**Apply ColumnTransformer, FunctionTransformer and Sklearn Pipeline on the Titanic dataset.**\n",
        "\n",
        "**Use ColumnTransformer, FunctionTransformer and Sklearn Pipeline features to preprocess the following dataset**\n",
        "\n",
        "https://www.kaggle.com/datasets/kamilpytlak/personal-key-indicators-of-heart-disease"
      ],
      "metadata": {
        "id": "Vu7nZz_DrFFY"
      }
    },
    {
      "cell_type": "code",
      "source": [],
      "metadata": {
        "id": "OtK5iFkkOClf"
      },
      "execution_count": null,
      "outputs": []
    },
    {
      "cell_type": "code",
      "source": [
        "dataset = pd.read_csv('/content/heart_2020_cleaned.csv')"
      ],
      "metadata": {
        "id": "3ixrExdrOCh1"
      },
      "execution_count": null,
      "outputs": []
    },
    {
      "cell_type": "code",
      "source": [
        "dataset.shape"
      ],
      "metadata": {
        "id": "YSzI9k8ZOCer",
        "outputId": "2b439c75-a13b-4893-bb61-9689bae5c2b1",
        "colab": {
          "base_uri": "https://localhost:8080/"
        }
      },
      "execution_count": null,
      "outputs": [
        {
          "output_type": "execute_result",
          "data": {
            "text/plain": [
              "(14194, 18)"
            ]
          },
          "metadata": {},
          "execution_count": 68
        }
      ]
    },
    {
      "cell_type": "code",
      "source": [
        "dataset.columns"
      ],
      "metadata": {
        "id": "L6SgfQodOCSo",
        "outputId": "3027c1db-ddb8-43ce-97a6-1a985257507f",
        "colab": {
          "base_uri": "https://localhost:8080/"
        }
      },
      "execution_count": null,
      "outputs": [
        {
          "output_type": "execute_result",
          "data": {
            "text/plain": [
              "Index(['HeartDisease', 'BMI', 'Smoking', 'AlcoholDrinking', 'Stroke',\n",
              "       'PhysicalHealth', 'MentalHealth', 'DiffWalking', 'Sex', 'AgeCategory',\n",
              "       'Race', 'Diabetic', 'PhysicalActivity', 'GenHealth', 'SleepTime',\n",
              "       'Asthma', 'KidneyDisease', 'SkinCancer'],\n",
              "      dtype='object')"
            ]
          },
          "metadata": {},
          "execution_count": 69
        }
      ]
    },
    {
      "cell_type": "code",
      "source": [
        "dataset.info()"
      ],
      "metadata": {
        "id": "1Dv5FBeGOQeH",
        "outputId": "057ff71d-9628-4b33-ef07-2b9ef4852764",
        "colab": {
          "base_uri": "https://localhost:8080/"
        }
      },
      "execution_count": null,
      "outputs": [
        {
          "output_type": "stream",
          "name": "stdout",
          "text": [
            "<class 'pandas.core.frame.DataFrame'>\n",
            "RangeIndex: 14194 entries, 0 to 14193\n",
            "Data columns (total 18 columns):\n",
            " #   Column            Non-Null Count  Dtype  \n",
            "---  ------            --------------  -----  \n",
            " 0   HeartDisease      14194 non-null  object \n",
            " 1   BMI               14194 non-null  float64\n",
            " 2   Smoking           14194 non-null  object \n",
            " 3   AlcoholDrinking   14194 non-null  object \n",
            " 4   Stroke            14194 non-null  object \n",
            " 5   PhysicalHealth    14194 non-null  int64  \n",
            " 6   MentalHealth      14194 non-null  int64  \n",
            " 7   DiffWalking       14194 non-null  object \n",
            " 8   Sex               14194 non-null  object \n",
            " 9   AgeCategory       14194 non-null  object \n",
            " 10  Race              14194 non-null  object \n",
            " 11  Diabetic          14194 non-null  object \n",
            " 12  PhysicalActivity  14194 non-null  object \n",
            " 13  GenHealth         14193 non-null  object \n",
            " 14  SleepTime         14193 non-null  float64\n",
            " 15  Asthma            14193 non-null  object \n",
            " 16  KidneyDisease     14193 non-null  object \n",
            " 17  SkinCancer        14193 non-null  object \n",
            "dtypes: float64(2), int64(2), object(14)\n",
            "memory usage: 1.9+ MB\n"
          ]
        }
      ]
    },
    {
      "cell_type": "code",
      "source": [
        "dataset.describe()"
      ],
      "metadata": {
        "id": "wxZ-jCfCOSHc",
        "outputId": "3e25799b-4d82-4f1c-beea-5164c359b596",
        "colab": {
          "base_uri": "https://localhost:8080/",
          "height": 300
        }
      },
      "execution_count": null,
      "outputs": [
        {
          "output_type": "execute_result",
          "data": {
            "text/plain": [
              "                BMI  PhysicalHealth  MentalHealth     SleepTime\n",
              "count  14194.000000    14194.000000  14194.000000  14193.000000\n",
              "mean      28.486437        3.752712      3.921164      7.111816\n",
              "std        6.427726        8.280896      8.010503      1.510522\n",
              "min       12.400000        0.000000      0.000000      1.000000\n",
              "25%       24.110000        0.000000      0.000000      6.000000\n",
              "50%       27.440000        0.000000      0.000000      7.000000\n",
              "75%       31.660000        2.000000      3.000000      8.000000\n",
              "max       83.000000       30.000000     30.000000     24.000000"
            ],
            "text/html": [
              "\n",
              "  <div id=\"df-26e3c8c2-aed2-4e03-a429-3ad36d2444d1\" class=\"colab-df-container\">\n",
              "    <div>\n",
              "<style scoped>\n",
              "    .dataframe tbody tr th:only-of-type {\n",
              "        vertical-align: middle;\n",
              "    }\n",
              "\n",
              "    .dataframe tbody tr th {\n",
              "        vertical-align: top;\n",
              "    }\n",
              "\n",
              "    .dataframe thead th {\n",
              "        text-align: right;\n",
              "    }\n",
              "</style>\n",
              "<table border=\"1\" class=\"dataframe\">\n",
              "  <thead>\n",
              "    <tr style=\"text-align: right;\">\n",
              "      <th></th>\n",
              "      <th>BMI</th>\n",
              "      <th>PhysicalHealth</th>\n",
              "      <th>MentalHealth</th>\n",
              "      <th>SleepTime</th>\n",
              "    </tr>\n",
              "  </thead>\n",
              "  <tbody>\n",
              "    <tr>\n",
              "      <th>count</th>\n",
              "      <td>14194.000000</td>\n",
              "      <td>14194.000000</td>\n",
              "      <td>14194.000000</td>\n",
              "      <td>14193.000000</td>\n",
              "    </tr>\n",
              "    <tr>\n",
              "      <th>mean</th>\n",
              "      <td>28.486437</td>\n",
              "      <td>3.752712</td>\n",
              "      <td>3.921164</td>\n",
              "      <td>7.111816</td>\n",
              "    </tr>\n",
              "    <tr>\n",
              "      <th>std</th>\n",
              "      <td>6.427726</td>\n",
              "      <td>8.280896</td>\n",
              "      <td>8.010503</td>\n",
              "      <td>1.510522</td>\n",
              "    </tr>\n",
              "    <tr>\n",
              "      <th>min</th>\n",
              "      <td>12.400000</td>\n",
              "      <td>0.000000</td>\n",
              "      <td>0.000000</td>\n",
              "      <td>1.000000</td>\n",
              "    </tr>\n",
              "    <tr>\n",
              "      <th>25%</th>\n",
              "      <td>24.110000</td>\n",
              "      <td>0.000000</td>\n",
              "      <td>0.000000</td>\n",
              "      <td>6.000000</td>\n",
              "    </tr>\n",
              "    <tr>\n",
              "      <th>50%</th>\n",
              "      <td>27.440000</td>\n",
              "      <td>0.000000</td>\n",
              "      <td>0.000000</td>\n",
              "      <td>7.000000</td>\n",
              "    </tr>\n",
              "    <tr>\n",
              "      <th>75%</th>\n",
              "      <td>31.660000</td>\n",
              "      <td>2.000000</td>\n",
              "      <td>3.000000</td>\n",
              "      <td>8.000000</td>\n",
              "    </tr>\n",
              "    <tr>\n",
              "      <th>max</th>\n",
              "      <td>83.000000</td>\n",
              "      <td>30.000000</td>\n",
              "      <td>30.000000</td>\n",
              "      <td>24.000000</td>\n",
              "    </tr>\n",
              "  </tbody>\n",
              "</table>\n",
              "</div>\n",
              "    <div class=\"colab-df-buttons\">\n",
              "\n",
              "  <div class=\"colab-df-container\">\n",
              "    <button class=\"colab-df-convert\" onclick=\"convertToInteractive('df-26e3c8c2-aed2-4e03-a429-3ad36d2444d1')\"\n",
              "            title=\"Convert this dataframe to an interactive table.\"\n",
              "            style=\"display:none;\">\n",
              "\n",
              "  <svg xmlns=\"http://www.w3.org/2000/svg\" height=\"24px\" viewBox=\"0 -960 960 960\">\n",
              "    <path d=\"M120-120v-720h720v720H120Zm60-500h600v-160H180v160Zm220 220h160v-160H400v160Zm0 220h160v-160H400v160ZM180-400h160v-160H180v160Zm440 0h160v-160H620v160ZM180-180h160v-160H180v160Zm440 0h160v-160H620v160Z\"/>\n",
              "  </svg>\n",
              "    </button>\n",
              "\n",
              "  <style>\n",
              "    .colab-df-container {\n",
              "      display:flex;\n",
              "      gap: 12px;\n",
              "    }\n",
              "\n",
              "    .colab-df-convert {\n",
              "      background-color: #E8F0FE;\n",
              "      border: none;\n",
              "      border-radius: 50%;\n",
              "      cursor: pointer;\n",
              "      display: none;\n",
              "      fill: #1967D2;\n",
              "      height: 32px;\n",
              "      padding: 0 0 0 0;\n",
              "      width: 32px;\n",
              "    }\n",
              "\n",
              "    .colab-df-convert:hover {\n",
              "      background-color: #E2EBFA;\n",
              "      box-shadow: 0px 1px 2px rgba(60, 64, 67, 0.3), 0px 1px 3px 1px rgba(60, 64, 67, 0.15);\n",
              "      fill: #174EA6;\n",
              "    }\n",
              "\n",
              "    .colab-df-buttons div {\n",
              "      margin-bottom: 4px;\n",
              "    }\n",
              "\n",
              "    [theme=dark] .colab-df-convert {\n",
              "      background-color: #3B4455;\n",
              "      fill: #D2E3FC;\n",
              "    }\n",
              "\n",
              "    [theme=dark] .colab-df-convert:hover {\n",
              "      background-color: #434B5C;\n",
              "      box-shadow: 0px 1px 3px 1px rgba(0, 0, 0, 0.15);\n",
              "      filter: drop-shadow(0px 1px 2px rgba(0, 0, 0, 0.3));\n",
              "      fill: #FFFFFF;\n",
              "    }\n",
              "  </style>\n",
              "\n",
              "    <script>\n",
              "      const buttonEl =\n",
              "        document.querySelector('#df-26e3c8c2-aed2-4e03-a429-3ad36d2444d1 button.colab-df-convert');\n",
              "      buttonEl.style.display =\n",
              "        google.colab.kernel.accessAllowed ? 'block' : 'none';\n",
              "\n",
              "      async function convertToInteractive(key) {\n",
              "        const element = document.querySelector('#df-26e3c8c2-aed2-4e03-a429-3ad36d2444d1');\n",
              "        const dataTable =\n",
              "          await google.colab.kernel.invokeFunction('convertToInteractive',\n",
              "                                                    [key], {});\n",
              "        if (!dataTable) return;\n",
              "\n",
              "        const docLinkHtml = 'Like what you see? Visit the ' +\n",
              "          '<a target=\"_blank\" href=https://colab.research.google.com/notebooks/data_table.ipynb>data table notebook</a>'\n",
              "          + ' to learn more about interactive tables.';\n",
              "        element.innerHTML = '';\n",
              "        dataTable['output_type'] = 'display_data';\n",
              "        await google.colab.output.renderOutput(dataTable, element);\n",
              "        const docLink = document.createElement('div');\n",
              "        docLink.innerHTML = docLinkHtml;\n",
              "        element.appendChild(docLink);\n",
              "      }\n",
              "    </script>\n",
              "  </div>\n",
              "\n",
              "\n",
              "<div id=\"df-4e243238-a3a9-4981-bdb1-fb6ecd27d90c\">\n",
              "  <button class=\"colab-df-quickchart\" onclick=\"quickchart('df-4e243238-a3a9-4981-bdb1-fb6ecd27d90c')\"\n",
              "            title=\"Suggest charts\"\n",
              "            style=\"display:none;\">\n",
              "\n",
              "<svg xmlns=\"http://www.w3.org/2000/svg\" height=\"24px\"viewBox=\"0 0 24 24\"\n",
              "     width=\"24px\">\n",
              "    <g>\n",
              "        <path d=\"M19 3H5c-1.1 0-2 .9-2 2v14c0 1.1.9 2 2 2h14c1.1 0 2-.9 2-2V5c0-1.1-.9-2-2-2zM9 17H7v-7h2v7zm4 0h-2V7h2v10zm4 0h-2v-4h2v4z\"/>\n",
              "    </g>\n",
              "</svg>\n",
              "  </button>\n",
              "\n",
              "<style>\n",
              "  .colab-df-quickchart {\n",
              "      --bg-color: #E8F0FE;\n",
              "      --fill-color: #1967D2;\n",
              "      --hover-bg-color: #E2EBFA;\n",
              "      --hover-fill-color: #174EA6;\n",
              "      --disabled-fill-color: #AAA;\n",
              "      --disabled-bg-color: #DDD;\n",
              "  }\n",
              "\n",
              "  [theme=dark] .colab-df-quickchart {\n",
              "      --bg-color: #3B4455;\n",
              "      --fill-color: #D2E3FC;\n",
              "      --hover-bg-color: #434B5C;\n",
              "      --hover-fill-color: #FFFFFF;\n",
              "      --disabled-bg-color: #3B4455;\n",
              "      --disabled-fill-color: #666;\n",
              "  }\n",
              "\n",
              "  .colab-df-quickchart {\n",
              "    background-color: var(--bg-color);\n",
              "    border: none;\n",
              "    border-radius: 50%;\n",
              "    cursor: pointer;\n",
              "    display: none;\n",
              "    fill: var(--fill-color);\n",
              "    height: 32px;\n",
              "    padding: 0;\n",
              "    width: 32px;\n",
              "  }\n",
              "\n",
              "  .colab-df-quickchart:hover {\n",
              "    background-color: var(--hover-bg-color);\n",
              "    box-shadow: 0 1px 2px rgba(60, 64, 67, 0.3), 0 1px 3px 1px rgba(60, 64, 67, 0.15);\n",
              "    fill: var(--button-hover-fill-color);\n",
              "  }\n",
              "\n",
              "  .colab-df-quickchart-complete:disabled,\n",
              "  .colab-df-quickchart-complete:disabled:hover {\n",
              "    background-color: var(--disabled-bg-color);\n",
              "    fill: var(--disabled-fill-color);\n",
              "    box-shadow: none;\n",
              "  }\n",
              "\n",
              "  .colab-df-spinner {\n",
              "    border: 2px solid var(--fill-color);\n",
              "    border-color: transparent;\n",
              "    border-bottom-color: var(--fill-color);\n",
              "    animation:\n",
              "      spin 1s steps(1) infinite;\n",
              "  }\n",
              "\n",
              "  @keyframes spin {\n",
              "    0% {\n",
              "      border-color: transparent;\n",
              "      border-bottom-color: var(--fill-color);\n",
              "      border-left-color: var(--fill-color);\n",
              "    }\n",
              "    20% {\n",
              "      border-color: transparent;\n",
              "      border-left-color: var(--fill-color);\n",
              "      border-top-color: var(--fill-color);\n",
              "    }\n",
              "    30% {\n",
              "      border-color: transparent;\n",
              "      border-left-color: var(--fill-color);\n",
              "      border-top-color: var(--fill-color);\n",
              "      border-right-color: var(--fill-color);\n",
              "    }\n",
              "    40% {\n",
              "      border-color: transparent;\n",
              "      border-right-color: var(--fill-color);\n",
              "      border-top-color: var(--fill-color);\n",
              "    }\n",
              "    60% {\n",
              "      border-color: transparent;\n",
              "      border-right-color: var(--fill-color);\n",
              "    }\n",
              "    80% {\n",
              "      border-color: transparent;\n",
              "      border-right-color: var(--fill-color);\n",
              "      border-bottom-color: var(--fill-color);\n",
              "    }\n",
              "    90% {\n",
              "      border-color: transparent;\n",
              "      border-bottom-color: var(--fill-color);\n",
              "    }\n",
              "  }\n",
              "</style>\n",
              "\n",
              "  <script>\n",
              "    async function quickchart(key) {\n",
              "      const quickchartButtonEl =\n",
              "        document.querySelector('#' + key + ' button');\n",
              "      quickchartButtonEl.disabled = true;  // To prevent multiple clicks.\n",
              "      quickchartButtonEl.classList.add('colab-df-spinner');\n",
              "      try {\n",
              "        const charts = await google.colab.kernel.invokeFunction(\n",
              "            'suggestCharts', [key], {});\n",
              "      } catch (error) {\n",
              "        console.error('Error during call to suggestCharts:', error);\n",
              "      }\n",
              "      quickchartButtonEl.classList.remove('colab-df-spinner');\n",
              "      quickchartButtonEl.classList.add('colab-df-quickchart-complete');\n",
              "    }\n",
              "    (() => {\n",
              "      let quickchartButtonEl =\n",
              "        document.querySelector('#df-4e243238-a3a9-4981-bdb1-fb6ecd27d90c button');\n",
              "      quickchartButtonEl.style.display =\n",
              "        google.colab.kernel.accessAllowed ? 'block' : 'none';\n",
              "    })();\n",
              "  </script>\n",
              "</div>\n",
              "\n",
              "    </div>\n",
              "  </div>\n"
            ],
            "application/vnd.google.colaboratory.intrinsic+json": {
              "type": "dataframe",
              "summary": "{\n  \"name\": \"dataset\",\n  \"rows\": 8,\n  \"fields\": [\n    {\n      \"column\": \"BMI\",\n      \"properties\": {\n        \"dtype\": \"number\",\n        \"std\": 5007.605274406581,\n        \"min\": 6.427725991340527,\n        \"max\": 14194.0,\n        \"num_unique_values\": 8,\n        \"samples\": [\n          28.48643722699732,\n          27.44,\n          14194.0\n        ],\n        \"semantic_type\": \"\",\n        \"description\": \"\"\n      }\n    },\n    {\n      \"column\": \"PhysicalHealth\",\n      \"properties\": {\n        \"dtype\": \"number\",\n        \"std\": 5016.122898444734,\n        \"min\": 0.0,\n        \"max\": 14194.0,\n        \"num_unique_values\": 6,\n        \"samples\": [\n          14194.0,\n          3.752712413695928,\n          30.0\n        ],\n        \"semantic_type\": \"\",\n        \"description\": \"\"\n      }\n    },\n    {\n      \"column\": \"MentalHealth\",\n      \"properties\": {\n        \"dtype\": \"number\",\n        \"std\": 5016.077404068076,\n        \"min\": 0.0,\n        \"max\": 14194.0,\n        \"num_unique_values\": 6,\n        \"samples\": [\n          14194.0,\n          3.9211638720586164,\n          30.0\n        ],\n        \"semantic_type\": \"\",\n        \"description\": \"\"\n      }\n    },\n    {\n      \"column\": \"SleepTime\",\n      \"properties\": {\n        \"dtype\": \"number\",\n        \"std\": 5015.229450320786,\n        \"min\": 1.0,\n        \"max\": 14193.0,\n        \"num_unique_values\": 8,\n        \"samples\": [\n          7.111815683787783,\n          7.0,\n          14193.0\n        ],\n        \"semantic_type\": \"\",\n        \"description\": \"\"\n      }\n    }\n  ]\n}"
            }
          },
          "metadata": {},
          "execution_count": 71
        }
      ]
    },
    {
      "cell_type": "code",
      "source": [
        "duplicate_rows = dataset.duplicated().sum()\n",
        "print(\"duplicate rows in dataset =\",duplicate_rows)"
      ],
      "metadata": {
        "id": "O_GJAE04OT9I",
        "outputId": "606e33e0-3e43-4888-f8d9-0c031cbd6e89",
        "colab": {
          "base_uri": "https://localhost:8080/"
        }
      },
      "execution_count": null,
      "outputs": [
        {
          "output_type": "stream",
          "name": "stdout",
          "text": [
            "duplicate rows in dataset = 45\n"
          ]
        }
      ]
    },
    {
      "cell_type": "code",
      "source": [
        "print(\"Dataset shape before dropping duplicates =\",dataset.shape)\n",
        "dataset.drop_duplicates(inplace=True)\n",
        "print(\"Dataset shape after dropping duplicates =\",dataset.shape)"
      ],
      "metadata": {
        "id": "FrGlAu9QOV_x",
        "outputId": "a3075e38-e77c-4b16-83e9-05737c13e6e3",
        "colab": {
          "base_uri": "https://localhost:8080/"
        }
      },
      "execution_count": null,
      "outputs": [
        {
          "output_type": "stream",
          "name": "stdout",
          "text": [
            "Dataset shape before dropping duplicates = (14194, 18)\n",
            "Dataset shape after dropping duplicates = (14149, 18)\n"
          ]
        }
      ]
    },
    {
      "cell_type": "code",
      "source": [],
      "metadata": {
        "id": "U6h6ZyLoO90i"
      },
      "execution_count": null,
      "outputs": []
    },
    {
      "cell_type": "code",
      "source": [
        "dataset.isnull().sum()"
      ],
      "metadata": {
        "id": "ZZBQwVn_O9xX",
        "outputId": "9d82ab22-d2e9-4819-f636-464a223fb0ab",
        "colab": {
          "base_uri": "https://localhost:8080/",
          "height": 648
        }
      },
      "execution_count": null,
      "outputs": [
        {
          "output_type": "execute_result",
          "data": {
            "text/plain": [
              "HeartDisease        0\n",
              "BMI                 0\n",
              "Smoking             0\n",
              "AlcoholDrinking     0\n",
              "Stroke              0\n",
              "PhysicalHealth      0\n",
              "MentalHealth        0\n",
              "DiffWalking         0\n",
              "Sex                 0\n",
              "AgeCategory         0\n",
              "Race                0\n",
              "Diabetic            0\n",
              "PhysicalActivity    0\n",
              "GenHealth           1\n",
              "SleepTime           1\n",
              "Asthma              1\n",
              "KidneyDisease       1\n",
              "SkinCancer          1\n",
              "dtype: int64"
            ],
            "text/html": [
              "<div>\n",
              "<style scoped>\n",
              "    .dataframe tbody tr th:only-of-type {\n",
              "        vertical-align: middle;\n",
              "    }\n",
              "\n",
              "    .dataframe tbody tr th {\n",
              "        vertical-align: top;\n",
              "    }\n",
              "\n",
              "    .dataframe thead th {\n",
              "        text-align: right;\n",
              "    }\n",
              "</style>\n",
              "<table border=\"1\" class=\"dataframe\">\n",
              "  <thead>\n",
              "    <tr style=\"text-align: right;\">\n",
              "      <th></th>\n",
              "      <th>0</th>\n",
              "    </tr>\n",
              "  </thead>\n",
              "  <tbody>\n",
              "    <tr>\n",
              "      <th>HeartDisease</th>\n",
              "      <td>0</td>\n",
              "    </tr>\n",
              "    <tr>\n",
              "      <th>BMI</th>\n",
              "      <td>0</td>\n",
              "    </tr>\n",
              "    <tr>\n",
              "      <th>Smoking</th>\n",
              "      <td>0</td>\n",
              "    </tr>\n",
              "    <tr>\n",
              "      <th>AlcoholDrinking</th>\n",
              "      <td>0</td>\n",
              "    </tr>\n",
              "    <tr>\n",
              "      <th>Stroke</th>\n",
              "      <td>0</td>\n",
              "    </tr>\n",
              "    <tr>\n",
              "      <th>PhysicalHealth</th>\n",
              "      <td>0</td>\n",
              "    </tr>\n",
              "    <tr>\n",
              "      <th>MentalHealth</th>\n",
              "      <td>0</td>\n",
              "    </tr>\n",
              "    <tr>\n",
              "      <th>DiffWalking</th>\n",
              "      <td>0</td>\n",
              "    </tr>\n",
              "    <tr>\n",
              "      <th>Sex</th>\n",
              "      <td>0</td>\n",
              "    </tr>\n",
              "    <tr>\n",
              "      <th>AgeCategory</th>\n",
              "      <td>0</td>\n",
              "    </tr>\n",
              "    <tr>\n",
              "      <th>Race</th>\n",
              "      <td>0</td>\n",
              "    </tr>\n",
              "    <tr>\n",
              "      <th>Diabetic</th>\n",
              "      <td>0</td>\n",
              "    </tr>\n",
              "    <tr>\n",
              "      <th>PhysicalActivity</th>\n",
              "      <td>0</td>\n",
              "    </tr>\n",
              "    <tr>\n",
              "      <th>GenHealth</th>\n",
              "      <td>1</td>\n",
              "    </tr>\n",
              "    <tr>\n",
              "      <th>SleepTime</th>\n",
              "      <td>1</td>\n",
              "    </tr>\n",
              "    <tr>\n",
              "      <th>Asthma</th>\n",
              "      <td>1</td>\n",
              "    </tr>\n",
              "    <tr>\n",
              "      <th>KidneyDisease</th>\n",
              "      <td>1</td>\n",
              "    </tr>\n",
              "    <tr>\n",
              "      <th>SkinCancer</th>\n",
              "      <td>1</td>\n",
              "    </tr>\n",
              "  </tbody>\n",
              "</table>\n",
              "</div><br><label><b>dtype:</b> int64</label>"
            ]
          },
          "metadata": {},
          "execution_count": 74
        }
      ]
    },
    {
      "cell_type": "code",
      "source": [],
      "metadata": {
        "id": "fKGffpzvO9um"
      },
      "execution_count": null,
      "outputs": []
    },
    {
      "cell_type": "code",
      "source": [],
      "metadata": {
        "id": "BVz-RlE-OtgT"
      },
      "execution_count": null,
      "outputs": []
    },
    {
      "cell_type": "code",
      "source": [],
      "metadata": {
        "id": "c_otUtXiPUeS"
      },
      "execution_count": null,
      "outputs": []
    },
    {
      "cell_type": "code",
      "source": [],
      "metadata": {
        "id": "cEJcA0pUPU73"
      },
      "execution_count": null,
      "outputs": []
    },
    {
      "cell_type": "code",
      "source": [
        "numerical_columns = dataset.select_dtypes(include=['int64', 'float64']).columns\n",
        "print(\"Numerical columns =\",numerical_columns)\n",
        "\n",
        "numerical_features_missing_values = dataset[numerical_columns].isnull().sum()\n",
        "numerical_features_with_missing_values = numerical_features_missing_values[numerical_features_missing_values > 0].index.tolist()\n",
        "print(\"\\nCategorical columns with Missing values: \", numerical_features_with_missing_values)\n"
      ],
      "metadata": {
        "id": "-KjdxFDNPUZ4",
        "outputId": "60f3ea64-409f-4e45-eb71-bad62ca5f1e9",
        "colab": {
          "base_uri": "https://localhost:8080/"
        }
      },
      "execution_count": null,
      "outputs": [
        {
          "output_type": "stream",
          "name": "stdout",
          "text": [
            "Numerical columns = Index(['BMI', 'PhysicalHealth', 'MentalHealth', 'SleepTime'], dtype='object')\n",
            "\n",
            "Categorical columns with Missing values:  ['SleepTime']\n"
          ]
        }
      ]
    },
    {
      "cell_type": "code",
      "source": [
        "categorical_columns = dataset.select_dtypes(include=['object']).columns\n",
        "print(\"Categorical columns =\",categorical_columns)\n",
        "\n",
        "categorical_features_missing_values = dataset[categorical_columns].isnull().sum()\n",
        "categorical_features_with_missing_values = categorical_features_missing_values[categorical_features_missing_values > 0].index.tolist()\n",
        "print(\"\\nCategorical columns with Missing values:\", categorical_features_with_missing_values)\n"
      ],
      "metadata": {
        "id": "fjvZQFeDR-E7",
        "outputId": "d3808099-58ac-4d24-917c-7c770e76d333",
        "colab": {
          "base_uri": "https://localhost:8080/"
        }
      },
      "execution_count": null,
      "outputs": [
        {
          "output_type": "stream",
          "name": "stdout",
          "text": [
            "Categorical columns = Index(['HeartDisease', 'Smoking', 'AlcoholDrinking', 'Stroke', 'DiffWalking',\n",
            "       'Sex', 'AgeCategory', 'Race', 'Diabetic', 'PhysicalActivity',\n",
            "       'GenHealth', 'Asthma', 'KidneyDisease', 'SkinCancer'],\n",
            "      dtype='object')\n",
            "\n",
            "Categorical columns with Missing values: ['GenHealth', 'Asthma', 'KidneyDisease', 'SkinCancer']\n"
          ]
        }
      ]
    },
    {
      "cell_type": "code",
      "source": [],
      "metadata": {
        "id": "eWFgCjmwR99T"
      },
      "execution_count": null,
      "outputs": []
    },
    {
      "cell_type": "code",
      "source": [
        "# preprocessor = ColumnTransformer(transformers=[\n",
        "#     ('SleepTime', SimpleImputer(strategy='mean'), ['SleepTime']),\n",
        "#     ('GenHealth', SimpleImputer(strategy='most_frequent'), ['GenHealth']),\n",
        "#     ('Asthma', SimpleImputer(strategy='most_frequent'), ['Asthma']),\n",
        "#     ('SkinCancer', SimpleImputer(strategy='most_frequent'), ['SkinCancer'])\n",
        "# ], remainder='passthrough')"
      ],
      "metadata": {
        "id": "V2-oXKD7WubE"
      },
      "execution_count": null,
      "outputs": []
    },
    {
      "cell_type": "code",
      "source": [],
      "metadata": {
        "id": "STPOJh_yWuYd"
      },
      "execution_count": null,
      "outputs": []
    },
    {
      "cell_type": "code",
      "source": [
        "numerical_features = ['BMI', 'PhysicalHealth', 'MentalHealth', 'SleepTime']\n",
        "binary_features = ['Smoking', 'AlcoholDrinking', 'Stroke','DiffWalking','Sex','PhysicalActivity','Asthma','KidneyDisease','SkinCancer']\n",
        "\n",
        "multi_cat_features = ['AgeCategory', 'Race', 'Diabetic']\n",
        "custom_impute_feature = ['GenHealth']\n",
        "\n"
      ],
      "metadata": {
        "id": "l-7rgGa6YP3b"
      },
      "execution_count": null,
      "outputs": []
    },
    {
      "cell_type": "code",
      "source": [
        "def custom_impute_genhealth(X):\n",
        "    X = pd.DataFrame(X, columns=['GenHealth'])\n",
        "    mode_val = X['GenHealth'].mode()[0]\n",
        "    X['GenHealth'] = X['GenHealth'].fillna(mode_val)\n",
        "    return X\n",
        "\n",
        "custom_genhealth_pipeline = Pipeline(steps=[\n",
        "    ('custom_imputer', FunctionTransformer(custom_impute_genhealth)),\n",
        "    ('encoder', OneHotEncoder())\n",
        "])"
      ],
      "metadata": {
        "id": "J6kyg4tgY9br"
      },
      "execution_count": null,
      "outputs": []
    },
    {
      "cell_type": "code",
      "source": [
        "numerical_transformer = Pipeline(steps=[\n",
        "    ('imputer', SimpleImputer(strategy='mean')),\n",
        "    ('scaler', StandardScaler())\n",
        "])\n",
        "\n",
        "binary_transformer = Pipeline(steps=[\n",
        "    ('imputer', SimpleImputer(strategy='most_frequent')),\n",
        "    ('encoder', OneHotEncoder())\n",
        "])\n",
        "\n",
        "multi_cat_transformer = Pipeline(steps=[\n",
        "    ('imputer', SimpleImputer(strategy='most_frequent')),\n",
        "    ('encoder', OneHotEncoder())\n",
        "])\n"
      ],
      "metadata": {
        "id": "AS6D5jcOY__2"
      },
      "execution_count": null,
      "outputs": []
    },
    {
      "cell_type": "code",
      "source": [
        "preprocessor = ColumnTransformer(transformers=[\n",
        "    ('num', numerical_transformer, numerical_features),\n",
        "    ('bin', binary_transformer, binary_features),\n",
        "    ('multi_cat', multi_cat_transformer, multi_cat_features),\n",
        "    ('custom_gen', custom_genhealth_pipeline, custom_impute_feature)\n",
        "], remainder='passthrough')"
      ],
      "metadata": {
        "id": "hcTOgLvLZe4e"
      },
      "execution_count": null,
      "outputs": []
    },
    {
      "cell_type": "code",
      "source": [],
      "metadata": {
        "id": "PKUb0Pp-YP0i"
      },
      "execution_count": null,
      "outputs": []
    },
    {
      "cell_type": "code",
      "source": [],
      "metadata": {
        "id": "8tItT8nFeVlX"
      },
      "execution_count": null,
      "outputs": []
    },
    {
      "cell_type": "code",
      "source": [],
      "metadata": {
        "id": "Fy9_W8vtYPx3"
      },
      "execution_count": null,
      "outputs": []
    },
    {
      "cell_type": "code",
      "source": [
        "X = dataset.drop(columns=['HeartDisease'])\n",
        "y = dataset['HeartDisease']\n",
        "\n",
        "# Manually matching the column transformer sequence\n",
        "numerical_features = ['BMI', 'PhysicalHealth', 'MentalHealth', 'SleepTime']\n",
        "cat_features = ['Smoking', 'AlcoholDrinking', 'Stroke', 'DiffWalking','Sex', 'PhysicalActivity', 'Asthma', 'KidneyDisease', 'SkinCancer', 'AgeCategory', 'Race', 'Diabetic', 'GenHealth']\n",
        "\n",
        "manual_feature_names = []\n",
        "\n",
        "manual_feature_names += numerical_features\n",
        "\n",
        "for col in cat_features:\n",
        "    unique_vals = X[col].dropna().unique()\n",
        "    for val in unique_vals:\n",
        "        manual_feature_names.append(f\"{col}_{val}\")\n",
        "\n",
        "\n",
        "transformed_features = preprocessor.fit_transform(X)\n"
      ],
      "metadata": {
        "id": "LvIHXXIEadRB"
      },
      "execution_count": null,
      "outputs": []
    },
    {
      "cell_type": "code",
      "source": [
        "transformed_df = pd.DataFrame(transformed_features, columns=manual_feature_names)\n",
        "print(transformed_df.head())\n"
      ],
      "metadata": {
        "id": "6ZrxALMsgaQU",
        "outputId": "d589a84b-a4bf-4a6b-8fbb-8bd08eaabdf0",
        "colab": {
          "base_uri": "https://localhost:8080/"
        }
      },
      "execution_count": null,
      "outputs": [
        {
          "output_type": "stream",
          "name": "stdout",
          "text": [
            "        BMI  PhysicalHealth  MentalHealth  SleepTime  Smoking_Yes  Smoking_No  \\\n",
            "0 -1.848808       -0.092208      3.250211  -1.395960          0.0         1.0   \n",
            "1 -1.267376       -0.454042     -0.490474  -0.073339          1.0         0.0   \n",
            "2 -0.297287        1.958183      3.250211   0.587972          0.0         1.0   \n",
            "3 -0.665734       -0.454042     -0.490474  -0.734650          1.0         0.0   \n",
            "4 -0.743466        2.923073     -0.490474   0.587972          1.0         0.0   \n",
            "\n",
            "   AlcoholDrinking_No  AlcoholDrinking_Yes  Stroke_No  Stroke_Yes  ...  \\\n",
            "0                 1.0                  0.0        1.0         0.0  ...   \n",
            "1                 1.0                  0.0        0.0         1.0  ...   \n",
            "2                 1.0                  0.0        1.0         0.0  ...   \n",
            "3                 1.0                  0.0        1.0         0.0  ...   \n",
            "4                 1.0                  0.0        1.0         0.0  ...   \n",
            "\n",
            "   Race_Hispanic  Diabetic_Yes  Diabetic_No  Diabetic_No, borderline diabetes  \\\n",
            "0            1.0           0.0          0.0                               1.0   \n",
            "1            1.0           1.0          0.0                               0.0   \n",
            "2            1.0           0.0          0.0                               1.0   \n",
            "3            1.0           1.0          0.0                               0.0   \n",
            "4            1.0           1.0          0.0                               0.0   \n",
            "\n",
            "   Diabetic_Yes (during pregnancy)  GenHealth_Very good  GenHealth_Fair  \\\n",
            "0                              0.0                  0.0             0.0   \n",
            "1                              0.0                  0.0             0.0   \n",
            "2                              0.0                  0.0             1.0   \n",
            "3                              0.0                  0.0             0.0   \n",
            "4                              0.0                  0.0             0.0   \n",
            "\n",
            "   GenHealth_Good  GenHealth_Poor  GenHealth_Excellent  \n",
            "0             0.0             0.0                  1.0  \n",
            "1             0.0             0.0                  1.0  \n",
            "2             0.0             0.0                  0.0  \n",
            "3             1.0             0.0                  0.0  \n",
            "4             0.0             0.0                  1.0  \n",
            "\n",
            "[5 rows x 50 columns]\n"
          ]
        }
      ]
    },
    {
      "cell_type": "code",
      "source": [
        "sns.heatmap(pd.crosstab(dataset['HeartDisease'], dataset['Smoking']),annot=True, fmt='d')"
      ],
      "metadata": {
        "id": "dhXgwc8AViee",
        "outputId": "a87ec779-c501-47c0-920d-7ceafac3824b",
        "colab": {
          "base_uri": "https://localhost:8080/",
          "height": 467
        }
      },
      "execution_count": null,
      "outputs": [
        {
          "output_type": "execute_result",
          "data": {
            "text/plain": [
              "<Axes: xlabel='Smoking', ylabel='HeartDisease'>"
            ]
          },
          "metadata": {},
          "execution_count": 117
        },
        {
          "output_type": "display_data",
          "data": {
            "text/plain": [
              "<Figure size 640x480 with 2 Axes>"
            ],
            "image/png": "[encoded data removed]"
          },
          "metadata": {}
        }
      ]
    },
    {
      "cell_type": "code",
      "source": [],
      "metadata": {
        "id": "sPh-4Fy3WJUq"
      },
      "execution_count": null,
      "outputs": []
    },
    {
      "cell_type": "code",
      "source": [],
      "metadata": {
        "id": "2gjckoAjWc5n"
      },
      "execution_count": null,
      "outputs": []
    },
    {
      "cell_type": "code",
      "source": [],
      "metadata": {
        "id": "Vn7WodmvWdlF"
      },
      "execution_count": null,
      "outputs": []
    },
    {
      "cell_type": "code",
      "source": [],
      "metadata": {
        "id": "ec09o2HlQyQl"
      },
      "execution_count": null,
      "outputs": []
    },
    {
      "cell_type": "code",
      "source": [],
      "metadata": {
        "id": "fJ47q13_cqlW"
      },
      "execution_count": null,
      "outputs": []
    },
    {
      "cell_type": "code",
      "source": [],
      "metadata": {
        "id": "D1qtaMsPRPWH"
      },
      "execution_count": null,
      "outputs": []
    },
    {
      "cell_type": "code",
      "source": [],
      "metadata": {
        "id": "HHwdhn5tRPTR"
      },
      "execution_count": null,
      "outputs": []
    },
    {
      "cell_type": "code",
      "source": [],
      "metadata": {
        "id": "v99Bd91LRPQu"
      },
      "execution_count": null,
      "outputs": []
    },
    {
      "cell_type": "code",
      "source": [],
      "metadata": {
        "id": "XYUNzi1CRPOQ"
      },
      "execution_count": null,
      "outputs": []
    },
    {
      "cell_type": "code",
      "source": [],
      "metadata": {
        "id": "eqkuK8hvRPJA"
      },
      "execution_count": null,
      "outputs": []
    }
  ]
}